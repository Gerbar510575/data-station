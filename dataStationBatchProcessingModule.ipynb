{
 "cells": [
  {
   "cell_type": "code",
   "execution_count": null,
   "id": "2d888d48",
   "metadata": {},
   "outputs": [],
   "source": [
    "#把資料load進dataFrame裡面(約耗時25分鐘)\n",
    "\n",
    "#以下是採用每100萬筆存入一個df，再將其concate，因此多少個df要視每個batch不同而定\n",
    "import pandas as pd\n",
    "import json\n",
    "from pandas.io.json import json_normalize\n",
    "from datetime import datetime\n",
    "\n",
    "df = pd.DataFrame()\n",
    "with open('D:\\json_data\\part_00000.json', 'r',encoding=\"utf-8\") as f: #此處資料路徑須改成你電腦的路徑\n",
    "    ls = f.readlines()\n",
    "    lines = []\n",
    "    start_time = datetime.now()\n",
    "    for line in ls[:1000000]:\n",
    "        \n",
    "        lines.append(json.loads(line))\n",
    "    print(\"+\")\n",
    "    df1 = pd.DataFrame.from_dict(pd.json_normalize(lines), orient='columns')\n",
    "    end_time = datetime.now()\n",
    "    print('Duration: {}'.format(end_time - start_time))\n",
    "    lines = []\n",
    "    start_time = datetime.now()\n",
    "    for line in ls[1000000:2000000]:\n",
    "        \n",
    "        lines.append(json.loads(line)) \n",
    "    print(\"-\")\n",
    "    df2 = pd.DataFrame.from_dict(pd.json_normalize(lines), orient='columns')\n",
    "    end_time = datetime.now()\n",
    "    print('Duration: {}'.format(end_time - start_time))\n",
    "    lines = []\n",
    "    start_time = datetime.now()\n",
    "    for line in ls[2000000:3000000]:\n",
    "        \n",
    "        lines.append(json.loads(line)) \n",
    "    print(\"-\")\n",
    "    df3 = pd.DataFrame.from_dict(pd.json_normalize(lines), orient='columns')\n",
    "    end_time = datetime.now()\n",
    "    print('Duration: {}'.format(end_time - start_time))\n",
    "    lines = []\n",
    "    start_time = datetime.now()\n",
    "    for line in ls[3000000:4000000]:\n",
    "        \n",
    "        lines.append(json.loads(line)) \n",
    "    print(\"-\")\n",
    "    df4 = pd.DataFrame.from_dict(pd.json_normalize(lines), orient='columns')\n",
    "    end_time = datetime.now()\n",
    "    print('Duration: {}'.format(end_time - start_time))\n",
    "    lines = []\n",
    "    start_time = datetime.now()\n",
    "    for line in ls[4000000:5000000]:  \n",
    "        lines.append(json.loads(line)) \n",
    "    print(\"-\")\n",
    "    df5 = pd.DataFrame.from_dict(pd.json_normalize(lines), orient='columns')\n",
    "    end_time = datetime.now()\n",
    "    print('Duration: {}'.format(end_time - start_time))\n",
    "    lines = []\n",
    "    start_time = datetime.now()\n",
    "    for line in ls[5000000:]:\n",
    "        \n",
    "        lines.append(json.loads(line)) \n",
    "    print(\"-\")\n",
    "    df6 = pd.DataFrame.from_dict(pd.json_normalize(lines), orient='columns')\n",
    "    end_time = datetime.now()\n",
    "    print('Duration: {}'.format(end_time - start_time))\n",
    "    start_time = datetime.now()\n",
    "    df = pd.concat([df1,df2,df3,df4,df5,df6], axis=0, ignore_index=True)\n",
    "    end_time = datetime.now()\n",
    "    print('Duration: {}'.format(end_time - start_time))"
   ]
  },
  {
   "cell_type": "code",
   "execution_count": null,
   "id": "21ab544e",
   "metadata": {},
   "outputs": [],
   "source": [
    "#查看batch有幾位使用者\n",
    "df.f_device_id.nunique()"
   ]
  },
  {
   "cell_type": "code",
   "execution_count": null,
   "id": "2281133e",
   "metadata": {},
   "outputs": [],
   "source": [
    "#查看當在使用各個功能時popup出訂閱視窗，而使用者點擊start free trial(主辦定義這樣就符合subscriber)的次數\n",
    "show = df[\"e_segment_map.operation\"]\n",
    "new = show[show.values == \"subscribe\"]\n",
    "len(new.index)\n",
    "\n",
    "#因為次數不代表人數，此步驟找出人數\n",
    "import numpy as np\n",
    "opeSub = df.loc[np.array(new.index),\"f_device_id\"]\n",
    "opeSub.nunique()"
   ]
  },
  {
   "cell_type": "code",
   "execution_count": null,
   "id": "7b4282d9",
   "metadata": {},
   "outputs": [],
   "source": [
    "#在某個當下檢查使用者是否為subscriber的身分(使用free trial者也屬於subscriber之範疇)\n",
    "#並分別印出yes和no之次數\n",
    "#其中我將yes之次數轉化為實際人數並列印出來\n",
    "subr = df[\"e_segment_map.subscriber\"]\n",
    "yes = subr[subr.values == \"yes\"]\n",
    "no = subr[subr.values == \"no\"]\n",
    "print(len(yes))\n",
    "print(len(no))\n",
    "momentSub = df.loc[np.array(yes.index),\"f_device_id\"]\n",
    "momentSub.nunique()"
   ]
  },
  {
   "cell_type": "code",
   "execution_count": null,
   "id": "7c283ba0",
   "metadata": {},
   "outputs": [],
   "source": [
    "#為了要確實計算出訂閱者總人數，必須將operation調查出為subscriber與在某個moment下調查出為subscriber扣掉交集\n",
    "#此處列印出交集元素device_id並計算共有幾個這樣的case\n",
    "count = 0\n",
    "for ele in opeSub.unique():\n",
    "    for element in momentSub.unique():\n",
    "        if element == ele:\n",
    "            count = count+1\n",
    "            print(element)\n",
    "print(count)"
   ]
  },
  {
   "cell_type": "code",
   "execution_count": null,
   "id": "85afb986",
   "metadata": {},
   "outputs": [],
   "source": [
    "#此處會過濾出overall的subscriber名單名稱為con為一個nparray\n",
    "count=0\n",
    "con = opeSub.unique()\n",
    "#這邊剛好只有一位交集，若有好幾位，可能con = []就要將交集id包成list\n",
    "con = np.delete(con, np.where(con == \"c8b2c217aa895fd5ad39b92bfe5afb1c0c4f2eb0\"))\n",
    "for element in momentSub.unique():\n",
    "    if element == ele:\n",
    "        count = count+1\n",
    "        print(element)\n",
    "    else:\n",
    "        con = np.append(con,element)\n",
    "\n",
    "print(len(con))"
   ]
  },
  {
   "cell_type": "code",
   "execution_count": null,
   "id": "706568d9",
   "metadata": {},
   "outputs": [],
   "source": [
    "#在df中找出con名單裡的device_id並將其完整資訊存入rslt_df這個dataFrame裡\n",
    "rslt_df = df[df['f_device_id'].isin(con)]"
   ]
  },
  {
   "cell_type": "code",
   "execution_count": null,
   "id": "db0a235f",
   "metadata": {},
   "outputs": [],
   "source": [
    "#合併timeStamp之Date和Time的column，並將其結果存入period變數\n",
    "rslt_df['period'] = rslt_df[['e_timestamp_day', 'e_timestamp_time']].apply(lambda x: ' '.join(x), axis=1)\n",
    "#轉成timeStamp形式\n",
    "rslt_df[\"period\"]= pd.to_datetime(rslt_df[\"period\"])\n",
    "#針對個別使用者將其行為按照時間排序\n",
    "test = rslt_df.sort_values(['f_device_id','period']).groupby('f_device_id')\n",
    "#將排序過的訂閱者資訊存入csv裡，名稱記得命名為batch的編號\n",
    "final = test.head(len(rslt_df['period']))\n",
    "final.to_csv(\"update.csv\")"
   ]
  }
 ],
 "metadata": {
  "kernelspec": {
   "display_name": "Python 3",
   "language": "python",
   "name": "python3"
  },
  "language_info": {
   "codemirror_mode": {
    "name": "ipython",
    "version": 3
   },
   "file_extension": ".py",
   "mimetype": "text/x-python",
   "name": "python",
   "nbconvert_exporter": "python",
   "pygments_lexer": "ipython3",
   "version": "3.8.8"
  }
 },
 "nbformat": 4,
 "nbformat_minor": 5
}
