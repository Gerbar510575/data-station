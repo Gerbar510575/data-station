{
 "cells": [
  {
   "cell_type": "code",
   "execution_count": 2,
   "id": "6dea0857",
   "metadata": {},
   "outputs": [
    {
     "name": "stderr",
     "output_type": "stream",
     "text": [
      "C:\\Users\\User\\anaconda3\\lib\\site-packages\\IPython\\core\\interactiveshell.py:3165: DtypeWarning: Columns (31,46,83,87,88,90,91,92,93,94,95,97,98,99,101,102,104,106,107,108,109,112,113,114,116,118,125,126,128,129,132,133,135,136,137,138,139) have mixed types.Specify dtype option on import or set low_memory=False.\n",
      "  has_raised = await self.run_ast_nodes(code_ast.body, cell_name,\n"
     ]
    }
   ],
   "source": [
    "import pandas as pd\n",
    "df = pd.read_csv(\"part_00064.csv\")"
   ]
  },
  {
   "cell_type": "code",
   "execution_count": 6,
   "id": "9fdfe755",
   "metadata": {},
   "outputs": [
    {
     "data": {
      "text/plain": [
       "0         NaN\n",
       "1         NaN\n",
       "2         NaN\n",
       "3         NaN\n",
       "4         NaN\n",
       "         ... \n",
       "285816    NaN\n",
       "285817    NaN\n",
       "285818    NaN\n",
       "285819    NaN\n",
       "285820    NaN\n",
       "Name: e_segment_map.product_id, Length: 285821, dtype: object"
      ]
     },
     "execution_count": 6,
     "metadata": {},
     "output_type": "execute_result"
    }
   ],
   "source": [
    "df.loc[:,\"e_segment_map.product_id\"]"
   ]
  },
  {
   "cell_type": "code",
   "execution_count": 7,
   "id": "16c97457",
   "metadata": {},
   "outputs": [
    {
     "data": {
      "text/plain": [
       "285279"
      ]
     },
     "execution_count": 7,
     "metadata": {},
     "output_type": "execute_result"
    }
   ],
   "source": [
    "df.loc[:,\"e_segment_map.product_id\"].isnull().sum()"
   ]
  },
  {
   "cell_type": "code",
   "execution_count": 10,
   "id": "3dc550b6",
   "metadata": {},
   "outputs": [],
   "source": [
    "want = df[df.loc[:,\"e_segment_map.product_id\"].isnull() == False]\n",
    "want.to_csv(\"product.csv\")"
   ]
  },
  {
   "cell_type": "code",
   "execution_count": 12,
   "id": "ed34c8ce",
   "metadata": {},
   "outputs": [
    {
     "data": {
      "text/plain": [
       "array(['Subscribe_1_Month_Trial_High',\n",
       "       'subscribe_iap_12_months_trial_high',\n",
       "       'Subscribe_12_Month_Trial_High', 'subscribe_iap_12_months_trial',\n",
       "       'subscribe_iap_1_month_trial_high',\n",
       "       'Subscribe_1_Month_new_user_intro_offer_ycp',\n",
       "       'Subscribe_12_Month_Trial_3daytrial_ycp',\n",
       "       'Subscribe_12_Month_Trial', 'Subscribe_1_Month_Trial',\n",
       "       'Subscribe_12_Months_new_user_intro_offer_ycp',\n",
       "       'subscribe_iap_1_month', 'subscribe_iap_1_month_trial',\n",
       "       'Subscribe_12_Months_churn_recovery_cancelld_subscriber_ycp',\n",
       "       'subscribe_iap_12_months'], dtype=object)"
      ]
     },
     "execution_count": 12,
     "metadata": {},
     "output_type": "execute_result"
    }
   ],
   "source": [
    "want[\"e_segment_map.product_id\"].unique()"
   ]
  },
  {
   "cell_type": "code",
   "execution_count": 14,
   "id": "8dd7dfeb",
   "metadata": {},
   "outputs": [
    {
     "data": {
      "text/plain": [
       "array(['subscribe_iap_12_months_trial_high',\n",
       "       'Subscribe_12_Month_Trial_High',\n",
       "       'Subscribe_1_Month_new_user_intro_offer_ycp',\n",
       "       'Subscribe_12_Months_new_user_intro_offer_ycp',\n",
       "       'subscribe_iap_1_month_trial_high'], dtype=object)"
      ]
     },
     "execution_count": 14,
     "metadata": {},
     "output_type": "execute_result"
    }
   ],
   "source": [
    "more = want[want.loc[:,\"e_segment_map.after_free_trial\"] == \"no\"]\n",
    "more[\"e_segment_map.product_id\"].unique()"
   ]
  },
  {
   "cell_type": "code",
   "execution_count": null,
   "id": "262c38e5",
   "metadata": {},
   "outputs": [],
   "source": []
  }
 ],
 "metadata": {
  "kernelspec": {
   "display_name": "Python 3",
   "language": "python",
   "name": "python3"
  },
  "language_info": {
   "codemirror_mode": {
    "name": "ipython",
    "version": 3
   },
   "file_extension": ".py",
   "mimetype": "text/x-python",
   "name": "python",
   "nbconvert_exporter": "python",
   "pygments_lexer": "ipython3",
   "version": "3.8.8"
  }
 },
 "nbformat": 4,
 "nbformat_minor": 5
}
